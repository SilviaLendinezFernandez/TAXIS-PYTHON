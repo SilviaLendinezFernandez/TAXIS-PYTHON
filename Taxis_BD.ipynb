{
 "cells": [
  {
   "cell_type": "markdown",
   "metadata": {
    "scrolled": true
   },
   "source": [
    "# Datos históricos de flota de taxis en Madrid"
   ]
  },
  {
   "cell_type": "markdown",
   "metadata": {},
   "source": [
    "Debido a la falta de datos, queremos resaltar que para este trabajo no vamos a utilizar el tema de nuestro TFM.\n",
    "\n",
    "Hemos utilizado una base de datos sobre la flota de taxis dentro de la ciudad de Madrid. Vamos a usar información como las marcas, el combustible y la cilindrada y potencia de los vehiculos para realizar un análisis exploratorio, teniendo en cuenta las limitaciones del tipo de variables a la hora de hacer gráficos.\n",
    "\n",
    "El objetivo de nuestro trabajo es aprender a limpiar una base de datos, transformar, visualizar e interpretar las principales variables.\n",
    "\n",
    "Para ello, en primer lugar, hemos importado el archivo csv *TaxiFlota*.\n",
    "Luego, hemos realizado la limpieza de datos (cambio de *str* a *int*, cambiar el nombre de las columnas, eliminar columnas, formato fecha, etc.)\n",
    "\n",
    "Por último hemos hecho algunas representaciones gráficas con las variables más relevantes."
   ]
  },
  {
   "cell_type": "markdown",
   "metadata": {},
   "source": [
    "## 1. Obtención de los datos \n",
    "Importación de la base de datos *Taxi Flota* de la base de datos abiertos de Madrid, en formato .csv"
   ]
  },
  {
   "cell_type": "code",
   "execution_count": 1,
   "metadata": {},
   "outputs": [
    {
     "data": {
      "text/html": [
       "<div>\n",
       "<style scoped>\n",
       "    .dataframe tbody tr th:only-of-type {\n",
       "        vertical-align: middle;\n",
       "    }\n",
       "\n",
       "    .dataframe tbody tr th {\n",
       "        vertical-align: top;\n",
       "    }\n",
       "\n",
       "    .dataframe thead th {\n",
       "        text-align: right;\n",
       "    }\n",
       "</style>\n",
       "<table border=\"1\" class=\"dataframe\">\n",
       "  <thead>\n",
       "    <tr style=\"text-align: right;\">\n",
       "      <th></th>\n",
       "      <th>Código</th>\n",
       "      <th>Matrícula</th>\n",
       "      <th>Fecha Matriculación</th>\n",
       "      <th>Marca</th>\n",
       "      <th>Modelo</th>\n",
       "      <th>Tipo</th>\n",
       "      <th>Variante</th>\n",
       "      <th>Clasificación medioambiental</th>\n",
       "      <th>Combustible</th>\n",
       "      <th>Cilindrada</th>\n",
       "      <th>Potencia</th>\n",
       "      <th>Número de Plazas</th>\n",
       "      <th>Fecha inicio de prestación del servicio de taxi</th>\n",
       "      <th>Eurotaxi</th>\n",
       "      <th>Régimen Especial de Eurotaxi</th>\n",
       "      <th>Fecha inicio Régimen Especial Eurotaxi</th>\n",
       "      <th>Fecha fin Régimen Especial Eurotaxi</th>\n",
       "      <th>Fecha</th>\n",
       "    </tr>\n",
       "  </thead>\n",
       "  <tbody>\n",
       "    <tr>\n",
       "      <th>0</th>\n",
       "      <td>1020144</td>\n",
       "      <td>2239DTJ</td>\n",
       "      <td>13/12/2005</td>\n",
       "      <td>SKODA</td>\n",
       "      <td>OCTAVIA</td>\n",
       "      <td>NaN</td>\n",
       "      <td>NaN</td>\n",
       "      <td>NaN</td>\n",
       "      <td>DIESEL</td>\n",
       "      <td>0</td>\n",
       "      <td>12.00</td>\n",
       "      <td>NaN</td>\n",
       "      <td>16/12/2005</td>\n",
       "      <td>NO</td>\n",
       "      <td>NO</td>\n",
       "      <td>NaN</td>\n",
       "      <td>NaN</td>\n",
       "      <td>30/07/2018</td>\n",
       "    </tr>\n",
       "    <tr>\n",
       "      <th>1</th>\n",
       "      <td>550040</td>\n",
       "      <td>8901GJP</td>\n",
       "      <td>21/11/2008</td>\n",
       "      <td>SKODA</td>\n",
       "      <td>OCTAVIA</td>\n",
       "      <td>NaN</td>\n",
       "      <td>NaN</td>\n",
       "      <td>NaN</td>\n",
       "      <td>DIESEL</td>\n",
       "      <td>0</td>\n",
       "      <td>12.00</td>\n",
       "      <td>NaN</td>\n",
       "      <td>11/12/2008</td>\n",
       "      <td>NO</td>\n",
       "      <td>NO</td>\n",
       "      <td>NaN</td>\n",
       "      <td>NaN</td>\n",
       "      <td>30/07/2018</td>\n",
       "    </tr>\n",
       "    <tr>\n",
       "      <th>2</th>\n",
       "      <td>550016</td>\n",
       "      <td>6364FVW</td>\n",
       "      <td>14/12/2007</td>\n",
       "      <td>SEAT</td>\n",
       "      <td>TOLEDO</td>\n",
       "      <td>NaN</td>\n",
       "      <td>NaN</td>\n",
       "      <td>NaN</td>\n",
       "      <td>DIESEL</td>\n",
       "      <td>0</td>\n",
       "      <td>12.00</td>\n",
       "      <td>NaN</td>\n",
       "      <td>18/11/2008</td>\n",
       "      <td>NO</td>\n",
       "      <td>NO</td>\n",
       "      <td>NaN</td>\n",
       "      <td>NaN</td>\n",
       "      <td>30/07/2018</td>\n",
       "    </tr>\n",
       "    <tr>\n",
       "      <th>3</th>\n",
       "      <td>550115</td>\n",
       "      <td>4249GST</td>\n",
       "      <td>08/01/2010</td>\n",
       "      <td>SKODA</td>\n",
       "      <td>OCTAVIA</td>\n",
       "      <td>NaN</td>\n",
       "      <td>NaN</td>\n",
       "      <td>NaN</td>\n",
       "      <td>DIESEL</td>\n",
       "      <td>0</td>\n",
       "      <td>12.00</td>\n",
       "      <td>NaN</td>\n",
       "      <td>14/01/2010</td>\n",
       "      <td>NO</td>\n",
       "      <td>NO</td>\n",
       "      <td>NaN</td>\n",
       "      <td>NaN</td>\n",
       "      <td>30/07/2018</td>\n",
       "    </tr>\n",
       "    <tr>\n",
       "      <th>4</th>\n",
       "      <td>550142</td>\n",
       "      <td>1561GVY</td>\n",
       "      <td>27/04/2010</td>\n",
       "      <td>SKODA</td>\n",
       "      <td>OCTAVIA</td>\n",
       "      <td>NaN</td>\n",
       "      <td>NaN</td>\n",
       "      <td>NaN</td>\n",
       "      <td>DIESEL</td>\n",
       "      <td>0</td>\n",
       "      <td>12.00</td>\n",
       "      <td>NaN</td>\n",
       "      <td>01/03/2010</td>\n",
       "      <td>NO</td>\n",
       "      <td>NO</td>\n",
       "      <td>NaN</td>\n",
       "      <td>NaN</td>\n",
       "      <td>30/07/2018</td>\n",
       "    </tr>\n",
       "    <tr>\n",
       "      <th>5</th>\n",
       "      <td>550214</td>\n",
       "      <td>6296HBZ</td>\n",
       "      <td>28/02/2011</td>\n",
       "      <td>SKODA</td>\n",
       "      <td>OCTAVIA</td>\n",
       "      <td>1Z</td>\n",
       "      <td>AACAYCX01/NFM5</td>\n",
       "      <td>NaN</td>\n",
       "      <td>DIESEL</td>\n",
       "      <td>0</td>\n",
       "      <td>11.64</td>\n",
       "      <td>NaN</td>\n",
       "      <td>03/08/2012</td>\n",
       "      <td>NO</td>\n",
       "      <td>NO</td>\n",
       "      <td>NaN</td>\n",
       "      <td>NaN</td>\n",
       "      <td>30/07/2018</td>\n",
       "    </tr>\n",
       "    <tr>\n",
       "      <th>6</th>\n",
       "      <td>550241</td>\n",
       "      <td>9097GYH</td>\n",
       "      <td>16/08/2010</td>\n",
       "      <td>VOLKSWAGEN</td>\n",
       "      <td>PASSAT</td>\n",
       "      <td>3C</td>\n",
       "      <td>AACBBBX0/FM6FM6*******</td>\n",
       "      <td>NaN</td>\n",
       "      <td>DIESEL</td>\n",
       "      <td>0</td>\n",
       "      <td>13.00</td>\n",
       "      <td>NaN</td>\n",
       "      <td>10/01/2013</td>\n",
       "      <td>NO</td>\n",
       "      <td>NO</td>\n",
       "      <td>NaN</td>\n",
       "      <td>NaN</td>\n",
       "      <td>30/07/2018</td>\n",
       "    </tr>\n",
       "    <tr>\n",
       "      <th>7</th>\n",
       "      <td>550244</td>\n",
       "      <td>3091HJM</td>\n",
       "      <td>29/02/2012</td>\n",
       "      <td>PEUGEOT</td>\n",
       "      <td>508</td>\n",
       "      <td>8</td>\n",
       "      <td>8D9HRB/PS</td>\n",
       "      <td>NaN</td>\n",
       "      <td>DIESEL</td>\n",
       "      <td>0</td>\n",
       "      <td>82.00</td>\n",
       "      <td>NaN</td>\n",
       "      <td>23/08/2013</td>\n",
       "      <td>NO</td>\n",
       "      <td>NO</td>\n",
       "      <td>NaN</td>\n",
       "      <td>NaN</td>\n",
       "      <td>30/07/2018</td>\n",
       "    </tr>\n",
       "    <tr>\n",
       "      <th>8</th>\n",
       "      <td>1198109</td>\n",
       "      <td>0800GZC</td>\n",
       "      <td>18/10/2010</td>\n",
       "      <td>CHEVROLET</td>\n",
       "      <td>EPICA</td>\n",
       "      <td>KLAL</td>\n",
       "      <td>LV3/134</td>\n",
       "      <td>B</td>\n",
       "      <td>DIESEL</td>\n",
       "      <td>1991</td>\n",
       "      <td>110.00</td>\n",
       "      <td>5</td>\n",
       "      <td>25/10/2010</td>\n",
       "      <td>NO</td>\n",
       "      <td>NO</td>\n",
       "      <td>NaN</td>\n",
       "      <td>NaN</td>\n",
       "      <td>30/07/2018</td>\n",
       "    </tr>\n",
       "    <tr>\n",
       "      <th>9</th>\n",
       "      <td>1196804</td>\n",
       "      <td>7686GYS</td>\n",
       "      <td>23/09/2010</td>\n",
       "      <td>CHEVROLET</td>\n",
       "      <td>EPICA</td>\n",
       "      <td>KLAL</td>\n",
       "      <td>LV1/111</td>\n",
       "      <td>C</td>\n",
       "      <td>GASOLINA TRANSFORMADO GLP</td>\n",
       "      <td>1993</td>\n",
       "      <td>105.00</td>\n",
       "      <td>5</td>\n",
       "      <td>04/10/2010</td>\n",
       "      <td>NO</td>\n",
       "      <td>NO</td>\n",
       "      <td>NaN</td>\n",
       "      <td>NaN</td>\n",
       "      <td>30/07/2018</td>\n",
       "    </tr>\n",
       "  </tbody>\n",
       "</table>\n",
       "</div>"
      ],
      "text/plain": [
       "    Código Matrícula Fecha Matriculación       Marca   Modelo  Tipo  \\\n",
       "0  1020144   2239DTJ          13/12/2005       SKODA  OCTAVIA   NaN   \n",
       "1   550040   8901GJP          21/11/2008       SKODA  OCTAVIA   NaN   \n",
       "2   550016   6364FVW          14/12/2007        SEAT   TOLEDO   NaN   \n",
       "3   550115   4249GST          08/01/2010       SKODA  OCTAVIA   NaN   \n",
       "4   550142   1561GVY          27/04/2010       SKODA  OCTAVIA   NaN   \n",
       "5   550214   6296HBZ          28/02/2011       SKODA  OCTAVIA    1Z   \n",
       "6   550241   9097GYH          16/08/2010  VOLKSWAGEN   PASSAT    3C   \n",
       "7   550244   3091HJM          29/02/2012    PEUGEOT       508     8   \n",
       "8  1198109   0800GZC          18/10/2010   CHEVROLET    EPICA  KLAL   \n",
       "9  1196804   7686GYS          23/09/2010   CHEVROLET    EPICA  KLAL   \n",
       "\n",
       "                 Variante Clasificación medioambiental  \\\n",
       "0                     NaN                          NaN   \n",
       "1                     NaN                          NaN   \n",
       "2                     NaN                          NaN   \n",
       "3                     NaN                          NaN   \n",
       "4                     NaN                          NaN   \n",
       "5          AACAYCX01/NFM5                          NaN   \n",
       "6  AACBBBX0/FM6FM6*******                          NaN   \n",
       "7               8D9HRB/PS                          NaN   \n",
       "8                 LV3/134                            B   \n",
       "9                 LV1/111                            C   \n",
       "\n",
       "                 Combustible  Cilindrada  Potencia Número de Plazas  \\\n",
       "0                     DIESEL           0     12.00              NaN   \n",
       "1                     DIESEL           0     12.00              NaN   \n",
       "2                     DIESEL           0     12.00              NaN   \n",
       "3                     DIESEL           0     12.00              NaN   \n",
       "4                     DIESEL           0     12.00              NaN   \n",
       "5                     DIESEL           0     11.64              NaN   \n",
       "6                     DIESEL           0     13.00              NaN   \n",
       "7                     DIESEL           0     82.00              NaN   \n",
       "8                     DIESEL        1991    110.00                5   \n",
       "9  GASOLINA TRANSFORMADO GLP        1993    105.00                5   \n",
       "\n",
       "  Fecha inicio de prestación del servicio de taxi Eurotaxi  \\\n",
       "0                                      16/12/2005       NO   \n",
       "1                                      11/12/2008       NO   \n",
       "2                                      18/11/2008       NO   \n",
       "3                                      14/01/2010       NO   \n",
       "4                                      01/03/2010       NO   \n",
       "5                                      03/08/2012       NO   \n",
       "6                                      10/01/2013       NO   \n",
       "7                                      23/08/2013       NO   \n",
       "8                                      25/10/2010       NO   \n",
       "9                                      04/10/2010       NO   \n",
       "\n",
       "  Régimen Especial de Eurotaxi Fecha inicio Régimen Especial Eurotaxi  \\\n",
       "0                           NO                                    NaN   \n",
       "1                           NO                                    NaN   \n",
       "2                           NO                                    NaN   \n",
       "3                           NO                                    NaN   \n",
       "4                           NO                                    NaN   \n",
       "5                           NO                                    NaN   \n",
       "6                           NO                                    NaN   \n",
       "7                           NO                                    NaN   \n",
       "8                           NO                                    NaN   \n",
       "9                           NO                                    NaN   \n",
       "\n",
       "  Fecha fin Régimen Especial Eurotaxi       Fecha  \n",
       "0                                 NaN  30/07/2018  \n",
       "1                                 NaN  30/07/2018  \n",
       "2                                 NaN  30/07/2018  \n",
       "3                                 NaN  30/07/2018  \n",
       "4                                 NaN  30/07/2018  \n",
       "5                                 NaN  30/07/2018  \n",
       "6                                 NaN  30/07/2018  \n",
       "7                                 NaN  30/07/2018  \n",
       "8                                 NaN  30/07/2018  \n",
       "9                                 NaN  30/07/2018  "
      ]
     },
     "execution_count": 1,
     "metadata": {},
     "output_type": "execute_result"
    }
   ],
   "source": [
    "import pandas as pd\n",
    "import numpy as np\n",
    "df = pd.read_csv('TaxiFlota.csv' , encoding = 'latin-1', sep = \";\")\n",
    "df.head(10)"
   ]
  },
  {
   "cell_type": "markdown",
   "metadata": {},
   "source": [
    "## 2. Tratamiento y limpieza\n",
    "\n",
    "Hemos cambiado el nombre de las columnas para que sean representativos y usables, cambiado el tipo de variables según les corresponda y eliminado variables que no tenían información relevante para nuestro análisis."
   ]
  },
  {
   "cell_type": "code",
   "execution_count": 2,
   "metadata": {},
   "outputs": [
    {
     "data": {
      "text/plain": [
       "ECO    20829\n",
       "B      14927\n",
       "C      11116\n",
       "0         46\n",
       "Name: Clasificación medioambiental, dtype: int64"
      ]
     },
     "execution_count": 2,
     "metadata": {},
     "output_type": "execute_result"
    }
   ],
   "source": [
    "df[\"Clasificación medioambiental\"].value_counts()"
   ]
  },
  {
   "cell_type": "markdown",
   "metadata": {},
   "source": [
    "#### 1. Renombrar los nombres de las columnas\n",
    "  \n",
    "  1.1 Cambiar los títulos a minúsculas"
   ]
  },
  {
   "cell_type": "code",
   "execution_count": 3,
   "metadata": {
    "scrolled": true
   },
   "outputs": [
    {
     "data": {
      "text/plain": [
       "Index(['código', 'matrícula', 'fecha matriculación', 'marca', 'modelo', 'tipo',\n",
       "       'variante', 'clasificación medioambiental', 'combustible', 'cilindrada',\n",
       "       'potencia', 'número de plazas',\n",
       "       'fecha inicio de prestación del servicio de taxi', 'eurotaxi',\n",
       "       'régimen especial de eurotaxi',\n",
       "       'fecha inicio régimen especial eurotaxi',\n",
       "       'fecha fin régimen especial eurotaxi', 'fecha'],\n",
       "      dtype='object')"
      ]
     },
     "execution_count": 3,
     "metadata": {},
     "output_type": "execute_result"
    }
   ],
   "source": [
    "df.columns = df.columns.str.lower()\n",
    "df.columns"
   ]
  },
  {
   "cell_type": "markdown",
   "metadata": {},
   "source": [
    "   1.2. Sustituir los espacios por \"_\""
   ]
  },
  {
   "cell_type": "code",
   "execution_count": 4,
   "metadata": {},
   "outputs": [
    {
     "data": {
      "text/plain": [
       "Index(['código', 'matrícula', 'fecha_matriculación', 'marca', 'modelo', 'tipo',\n",
       "       'variante', 'clasificación_medioambiental', 'combustible', 'cilindrada',\n",
       "       'potencia', 'número_de_plazas',\n",
       "       'fecha_inicio_de_prestación_del_servicio_de_taxi', 'eurotaxi',\n",
       "       'régimen_especial_de_eurotaxi',\n",
       "       'fecha_inicio_régimen_especial_eurotaxi',\n",
       "       'fecha_fin_régimen_especial_eurotaxi', 'fecha'],\n",
       "      dtype='object')"
      ]
     },
     "execution_count": 4,
     "metadata": {},
     "output_type": "execute_result"
    }
   ],
   "source": [
    "df.columns = df.columns.str.replace(' ','_')\n",
    "df.columns"
   ]
  },
  {
   "cell_type": "markdown",
   "metadata": {},
   "source": [
    "  1.3 Quitar tildes y caracteres especiales"
   ]
  },
  {
   "cell_type": "code",
   "execution_count": 5,
   "metadata": {},
   "outputs": [
    {
     "data": {
      "text/plain": [
       "Index(['codigo', 'matricula', 'fecha_matriculacion', 'marca', 'modelo', 'tipo',\n",
       "       'variante', 'clasificacion_medioambiental', 'combustible', 'cilindrada',\n",
       "       'potencia', 'numero_de_plazas',\n",
       "       'fecha_inicio_de_prestacion_del_servicio_de_taxi', 'eurotaxi',\n",
       "       'regimen_especial_de_eurotaxi',\n",
       "       'fecha_inicio_regimen_especial_eurotaxi',\n",
       "       'fecha_fin_regimen_especial_eurotaxi', 'fecha'],\n",
       "      dtype='object')"
      ]
     },
     "execution_count": 5,
     "metadata": {},
     "output_type": "execute_result"
    }
   ],
   "source": [
    "df.columns = df.columns.str.replace(\"á\", \"a\").str.replace(\"é\", \"e\").str.replace(\"í\", \"i\").str.replace(\"ó\", \"o\").str.replace(\"ú\", \"u\").str.replace(\"ñ\", \"n\")\n",
    "df.columns"
   ]
  },
  {
   "cell_type": "markdown",
   "metadata": {},
   "source": [
    "  1.4. Renombrar manualmente las columnas con nombres más largos"
   ]
  },
  {
   "cell_type": "code",
   "execution_count": 6,
   "metadata": {},
   "outputs": [
    {
     "data": {
      "text/plain": [
       "Index(['codigo', 'matricula', 'fecha_matriculacion', 'marca', 'modelo', 'tipo',\n",
       "       'variante', 'clasificacion_medioambiental', 'combustible', 'cilindrada',\n",
       "       'potencia', 'numero_plazas', 'fecha_inicio', 'eurotaxi',\n",
       "       'regimen_eurotaxi', 'fecha_inicio_eurotaxi', 'fecha_fin_eurotaxi',\n",
       "       'fecha'],\n",
       "      dtype='object')"
      ]
     },
     "execution_count": 6,
     "metadata": {},
     "output_type": "execute_result"
    }
   ],
   "source": [
    "df = df.rename(columns= {'numero_de_plazas':'numero_plazas',\n",
    "                   'fecha_inicio_de_prestacion_del_servicio_de_taxi':'fecha_inicio', \n",
    "                   'regimen_especial_de_eurotaxi':'regimen_eurotaxi', \n",
    "                   'fecha_inicio_regimen_especial_eurotaxi':'fecha_inicio_eurotaxi', \n",
    "                   'fecha_fin_regimen_especial_eurotaxi':'fecha_fin_eurotaxi'})\n",
    "df.columns"
   ]
  },
  {
   "cell_type": "markdown",
   "metadata": {},
   "source": [
    "#### 2. Convertir las variables a los tipos correspondientes\n",
    "\n",
    "  2.1 Inspeccionar el tipo de variables"
   ]
  },
  {
   "cell_type": "code",
   "execution_count": 7,
   "metadata": {},
   "outputs": [
    {
     "data": {
      "text/plain": [
       "codigo                            int64\n",
       "matricula                        object\n",
       "fecha_matriculacion              object\n",
       "marca                            object\n",
       "modelo                           object\n",
       "tipo                             object\n",
       "variante                         object\n",
       "clasificacion_medioambiental     object\n",
       "combustible                      object\n",
       "cilindrada                        int64\n",
       "potencia                        float64\n",
       "numero_plazas                    object\n",
       "fecha_inicio                     object\n",
       "eurotaxi                         object\n",
       "regimen_eurotaxi                 object\n",
       "fecha_inicio_eurotaxi            object\n",
       "fecha_fin_eurotaxi               object\n",
       "fecha                            object\n",
       "dtype: object"
      ]
     },
     "execution_count": 7,
     "metadata": {},
     "output_type": "execute_result"
    }
   ],
   "source": [
    "df.dtypes"
   ]
  },
  {
   "cell_type": "markdown",
   "metadata": {},
   "source": [
    "2.2 Identificar las variables a cambiar:\n",
    "\n",
    "- **codigo**: int -> object\n",
    "- **matricula**: OK\n",
    "- **fecha_matriculacion**: object -> date\n",
    "- **marca**: OK\n",
    "- **modelo**: OK\n",
    "- **tipo**: borrar, aporta poca información\n",
    "- **variante**: borrar, aporta poca información\n",
    "- **clasificacion_medioambiental**: object -> category\n",
    "- **combustible**: OK\n",
    "- **cilindrada**: OK\n",
    "- **potencia**: int -> float\n",
    "- **numero_plazas**: object -> int\n",
    "- **fecha_inicio**: object -> date\n",
    "- **eurotaxi**: OK, cambiar *'si'* y *'no'* por *'0'* y *'1'*\n",
    "- **regimen_eurotaxi**: OK, cambiar *'si'* y *'no'* por *'0'* y *'1'*\n",
    "- **fecha_inicio_eurotaxi**: borrar, aporta poca información\n",
    "- **fecha_fin_eurotaxi**: borrar, aporta poca información\n",
    "- **fecha**: borrar, aporta poca información"
   ]
  },
  {
   "cell_type": "code",
   "execution_count": 8,
   "metadata": {},
   "outputs": [],
   "source": [
    "# codigo\n",
    "df.codigo = df.codigo.astype('object')"
   ]
  },
  {
   "cell_type": "code",
   "execution_count": 9,
   "metadata": {},
   "outputs": [],
   "source": [
    "# fecha_matriculación\n",
    "\n",
    "from datetime import date, datetime\n",
    "import re\n",
    "formato = '%d/%m/%Y'\n",
    "\n",
    "def parsea_fecha(fecha):\n",
    "    try:\n",
    "        a = datetime.strptime(fecha,formato)\n",
    "        return a\n",
    "    except:\n",
    "        return None\n",
    "\n",
    "df.fecha_matriculacion = df.fecha_matriculacion.apply(parsea_fecha)"
   ]
  },
  {
   "cell_type": "code",
   "execution_count": 10,
   "metadata": {},
   "outputs": [
    {
     "data": {
      "text/plain": [
       "0    NaN\n",
       "1    NaN\n",
       "2    NaN\n",
       "3    NaN\n",
       "4    NaN\n",
       "Name: clasificacion_medioambiental, dtype: category\n",
       "Categories (4, object): [0, ECO, C, B]"
      ]
     },
     "execution_count": 10,
     "metadata": {},
     "output_type": "execute_result"
    }
   ],
   "source": [
    "# clasificacion_medioambiental\n",
    "df[\"clasificacion_medioambiental\"] = pd.Categorical(df[\"clasificacion_medioambiental\"], [\"0\", \"ECO\", \"C\", \"B\"])\n",
    "df.clasificacion_medioambiental.head()"
   ]
  },
  {
   "cell_type": "code",
   "execution_count": 11,
   "metadata": {},
   "outputs": [
    {
     "data": {
      "text/html": [
       "<div>\n",
       "<style scoped>\n",
       "    .dataframe tbody tr th:only-of-type {\n",
       "        vertical-align: middle;\n",
       "    }\n",
       "\n",
       "    .dataframe tbody tr th {\n",
       "        vertical-align: top;\n",
       "    }\n",
       "\n",
       "    .dataframe thead th {\n",
       "        text-align: right;\n",
       "    }\n",
       "</style>\n",
       "<table border=\"1\" class=\"dataframe\">\n",
       "  <thead>\n",
       "    <tr style=\"text-align: right;\">\n",
       "      <th></th>\n",
       "      <th>codigo</th>\n",
       "      <th>matricula</th>\n",
       "      <th>fecha_matriculacion</th>\n",
       "      <th>marca</th>\n",
       "      <th>modelo</th>\n",
       "      <th>tipo</th>\n",
       "      <th>variante</th>\n",
       "      <th>clasificacion_medioambiental</th>\n",
       "      <th>combustible</th>\n",
       "      <th>cilindrada</th>\n",
       "      <th>potencia</th>\n",
       "      <th>numero_plazas</th>\n",
       "      <th>fecha_inicio</th>\n",
       "      <th>eurotaxi</th>\n",
       "      <th>regimen_eurotaxi</th>\n",
       "      <th>fecha_inicio_eurotaxi</th>\n",
       "      <th>fecha_fin_eurotaxi</th>\n",
       "      <th>fecha</th>\n",
       "    </tr>\n",
       "  </thead>\n",
       "  <tbody>\n",
       "    <tr>\n",
       "      <th>0</th>\n",
       "      <td>1020144</td>\n",
       "      <td>2239DTJ</td>\n",
       "      <td>2005-12-13</td>\n",
       "      <td>SKODA</td>\n",
       "      <td>OCTAVIA</td>\n",
       "      <td>NaN</td>\n",
       "      <td>NaN</td>\n",
       "      <td>NaN</td>\n",
       "      <td>DIESEL</td>\n",
       "      <td>0</td>\n",
       "      <td>12.0</td>\n",
       "      <td>NaN</td>\n",
       "      <td>16/12/2005</td>\n",
       "      <td>NO</td>\n",
       "      <td>NO</td>\n",
       "      <td>NaN</td>\n",
       "      <td>NaN</td>\n",
       "      <td>30/07/2018</td>\n",
       "    </tr>\n",
       "    <tr>\n",
       "      <th>1</th>\n",
       "      <td>550040</td>\n",
       "      <td>8901GJP</td>\n",
       "      <td>2008-11-21</td>\n",
       "      <td>SKODA</td>\n",
       "      <td>OCTAVIA</td>\n",
       "      <td>NaN</td>\n",
       "      <td>NaN</td>\n",
       "      <td>NaN</td>\n",
       "      <td>DIESEL</td>\n",
       "      <td>0</td>\n",
       "      <td>12.0</td>\n",
       "      <td>NaN</td>\n",
       "      <td>11/12/2008</td>\n",
       "      <td>NO</td>\n",
       "      <td>NO</td>\n",
       "      <td>NaN</td>\n",
       "      <td>NaN</td>\n",
       "      <td>30/07/2018</td>\n",
       "    </tr>\n",
       "    <tr>\n",
       "      <th>2</th>\n",
       "      <td>550016</td>\n",
       "      <td>6364FVW</td>\n",
       "      <td>2007-12-14</td>\n",
       "      <td>SEAT</td>\n",
       "      <td>TOLEDO</td>\n",
       "      <td>NaN</td>\n",
       "      <td>NaN</td>\n",
       "      <td>NaN</td>\n",
       "      <td>DIESEL</td>\n",
       "      <td>0</td>\n",
       "      <td>12.0</td>\n",
       "      <td>NaN</td>\n",
       "      <td>18/11/2008</td>\n",
       "      <td>NO</td>\n",
       "      <td>NO</td>\n",
       "      <td>NaN</td>\n",
       "      <td>NaN</td>\n",
       "      <td>30/07/2018</td>\n",
       "    </tr>\n",
       "    <tr>\n",
       "      <th>3</th>\n",
       "      <td>550115</td>\n",
       "      <td>4249GST</td>\n",
       "      <td>2010-01-08</td>\n",
       "      <td>SKODA</td>\n",
       "      <td>OCTAVIA</td>\n",
       "      <td>NaN</td>\n",
       "      <td>NaN</td>\n",
       "      <td>NaN</td>\n",
       "      <td>DIESEL</td>\n",
       "      <td>0</td>\n",
       "      <td>12.0</td>\n",
       "      <td>NaN</td>\n",
       "      <td>14/01/2010</td>\n",
       "      <td>NO</td>\n",
       "      <td>NO</td>\n",
       "      <td>NaN</td>\n",
       "      <td>NaN</td>\n",
       "      <td>30/07/2018</td>\n",
       "    </tr>\n",
       "    <tr>\n",
       "      <th>4</th>\n",
       "      <td>550142</td>\n",
       "      <td>1561GVY</td>\n",
       "      <td>2010-04-27</td>\n",
       "      <td>SKODA</td>\n",
       "      <td>OCTAVIA</td>\n",
       "      <td>NaN</td>\n",
       "      <td>NaN</td>\n",
       "      <td>NaN</td>\n",
       "      <td>DIESEL</td>\n",
       "      <td>0</td>\n",
       "      <td>12.0</td>\n",
       "      <td>NaN</td>\n",
       "      <td>01/03/2010</td>\n",
       "      <td>NO</td>\n",
       "      <td>NO</td>\n",
       "      <td>NaN</td>\n",
       "      <td>NaN</td>\n",
       "      <td>30/07/2018</td>\n",
       "    </tr>\n",
       "  </tbody>\n",
       "</table>\n",
       "</div>"
      ],
      "text/plain": [
       "    codigo matricula fecha_matriculacion  marca   modelo tipo variante  \\\n",
       "0  1020144   2239DTJ          2005-12-13  SKODA  OCTAVIA  NaN      NaN   \n",
       "1   550040   8901GJP          2008-11-21  SKODA  OCTAVIA  NaN      NaN   \n",
       "2   550016   6364FVW          2007-12-14   SEAT   TOLEDO  NaN      NaN   \n",
       "3   550115   4249GST          2010-01-08  SKODA  OCTAVIA  NaN      NaN   \n",
       "4   550142   1561GVY          2010-04-27  SKODA  OCTAVIA  NaN      NaN   \n",
       "\n",
       "  clasificacion_medioambiental combustible  cilindrada  potencia  \\\n",
       "0                          NaN      DIESEL           0      12.0   \n",
       "1                          NaN      DIESEL           0      12.0   \n",
       "2                          NaN      DIESEL           0      12.0   \n",
       "3                          NaN      DIESEL           0      12.0   \n",
       "4                          NaN      DIESEL           0      12.0   \n",
       "\n",
       "  numero_plazas fecha_inicio eurotaxi regimen_eurotaxi fecha_inicio_eurotaxi  \\\n",
       "0           NaN   16/12/2005       NO               NO                   NaN   \n",
       "1           NaN   11/12/2008       NO               NO                   NaN   \n",
       "2           NaN   18/11/2008       NO               NO                   NaN   \n",
       "3           NaN   14/01/2010       NO               NO                   NaN   \n",
       "4           NaN   01/03/2010       NO               NO                   NaN   \n",
       "\n",
       "  fecha_fin_eurotaxi       fecha  \n",
       "0                NaN  30/07/2018  \n",
       "1                NaN  30/07/2018  \n",
       "2                NaN  30/07/2018  \n",
       "3                NaN  30/07/2018  \n",
       "4                NaN  30/07/2018  "
      ]
     },
     "execution_count": 11,
     "metadata": {},
     "output_type": "execute_result"
    }
   ],
   "source": [
    "# potencia\n",
    "\n",
    "def a_numero(numero):\n",
    "    try:\n",
    "        a = pd.to_numeric(numero)\n",
    "        return a\n",
    "    except:\n",
    "        return None\n",
    "\n",
    "df.potencia = df.potencia.apply(a_numero)\n",
    "df.head()"
   ]
  },
  {
   "cell_type": "code",
   "execution_count": 12,
   "metadata": {
    "scrolled": false
   },
   "outputs": [
    {
     "data": {
      "text/plain": [
       "5                           45515\n",
       "7                             551\n",
       "de 5+1PMR a 7 plazas (*)      250\n",
       "6                             192\n",
       "9                             164\n",
       "5 + 1 PMR                     117\n",
       "de 5+1PMR a 9 plazas (*)       66\n",
       "8                              39\n",
       "NaN                            24\n",
       "5+2PMR                          6\n",
       "5+1PMR                          6\n",
       "de 5+1PMR a 8 plazas (*)        3\n",
       "7+1PMR                          3\n",
       "de 6+1PMR a 8 plazas (*)        3\n",
       "de 6+1PMR a 9 plazas (*)        3\n",
       "Name: numero_plazas, dtype: int64"
      ]
     },
     "execution_count": 12,
     "metadata": {},
     "output_type": "execute_result"
    }
   ],
   "source": [
    "# numero_plazas\n",
    "df.numero_plazas = df.numero_plazas.astype('object')\n",
    "df.numero_plazas.value_counts(dropna=False)"
   ]
  },
  {
   "cell_type": "markdown",
   "metadata": {},
   "source": [
    "Creamos tres columnas nuevas partiendo de la columna 'número de plazas' para clarificar la información\n",
    "- Número de plazas\n",
    "- Número de plazas de movilidad reducida\n",
    "- Número de plazas ampliables en caso de ser posible"
   ]
  },
  {
   "cell_type": "code",
   "execution_count": 13,
   "metadata": {},
   "outputs": [
    {
     "data": {
      "text/html": [
       "<div>\n",
       "<style scoped>\n",
       "    .dataframe tbody tr th:only-of-type {\n",
       "        vertical-align: middle;\n",
       "    }\n",
       "\n",
       "    .dataframe tbody tr th {\n",
       "        vertical-align: top;\n",
       "    }\n",
       "\n",
       "    .dataframe thead th {\n",
       "        text-align: right;\n",
       "    }\n",
       "</style>\n",
       "<table border=\"1\" class=\"dataframe\">\n",
       "  <thead>\n",
       "    <tr style=\"text-align: right;\">\n",
       "      <th></th>\n",
       "      <th>codigo</th>\n",
       "      <th>matricula</th>\n",
       "      <th>fecha_matriculacion</th>\n",
       "      <th>marca</th>\n",
       "      <th>modelo</th>\n",
       "      <th>tipo</th>\n",
       "      <th>variante</th>\n",
       "      <th>clasificacion_medioambiental</th>\n",
       "      <th>combustible</th>\n",
       "      <th>cilindrada</th>\n",
       "      <th>...</th>\n",
       "      <th>numero_plazas</th>\n",
       "      <th>fecha_inicio</th>\n",
       "      <th>eurotaxi</th>\n",
       "      <th>regimen_eurotaxi</th>\n",
       "      <th>fecha_inicio_eurotaxi</th>\n",
       "      <th>fecha_fin_eurotaxi</th>\n",
       "      <th>fecha</th>\n",
       "      <th>num_plazas</th>\n",
       "      <th>num_plazas_movilidad_reducida</th>\n",
       "      <th>num_plazas_ampliables</th>\n",
       "    </tr>\n",
       "  </thead>\n",
       "  <tbody>\n",
       "    <tr>\n",
       "      <th>0</th>\n",
       "      <td>1020144</td>\n",
       "      <td>2239DTJ</td>\n",
       "      <td>2005-12-13</td>\n",
       "      <td>SKODA</td>\n",
       "      <td>OCTAVIA</td>\n",
       "      <td>NaN</td>\n",
       "      <td>NaN</td>\n",
       "      <td>NaN</td>\n",
       "      <td>DIESEL</td>\n",
       "      <td>0</td>\n",
       "      <td>...</td>\n",
       "      <td>NaN</td>\n",
       "      <td>16/12/2005</td>\n",
       "      <td>NO</td>\n",
       "      <td>NO</td>\n",
       "      <td>NaN</td>\n",
       "      <td>NaN</td>\n",
       "      <td>30/07/2018</td>\n",
       "      <td>5</td>\n",
       "      <td>0</td>\n",
       "      <td>5</td>\n",
       "    </tr>\n",
       "    <tr>\n",
       "      <th>1</th>\n",
       "      <td>550040</td>\n",
       "      <td>8901GJP</td>\n",
       "      <td>2008-11-21</td>\n",
       "      <td>SKODA</td>\n",
       "      <td>OCTAVIA</td>\n",
       "      <td>NaN</td>\n",
       "      <td>NaN</td>\n",
       "      <td>NaN</td>\n",
       "      <td>DIESEL</td>\n",
       "      <td>0</td>\n",
       "      <td>...</td>\n",
       "      <td>NaN</td>\n",
       "      <td>11/12/2008</td>\n",
       "      <td>NO</td>\n",
       "      <td>NO</td>\n",
       "      <td>NaN</td>\n",
       "      <td>NaN</td>\n",
       "      <td>30/07/2018</td>\n",
       "      <td>5</td>\n",
       "      <td>0</td>\n",
       "      <td>5</td>\n",
       "    </tr>\n",
       "    <tr>\n",
       "      <th>2</th>\n",
       "      <td>550016</td>\n",
       "      <td>6364FVW</td>\n",
       "      <td>2007-12-14</td>\n",
       "      <td>SEAT</td>\n",
       "      <td>TOLEDO</td>\n",
       "      <td>NaN</td>\n",
       "      <td>NaN</td>\n",
       "      <td>NaN</td>\n",
       "      <td>DIESEL</td>\n",
       "      <td>0</td>\n",
       "      <td>...</td>\n",
       "      <td>NaN</td>\n",
       "      <td>18/11/2008</td>\n",
       "      <td>NO</td>\n",
       "      <td>NO</td>\n",
       "      <td>NaN</td>\n",
       "      <td>NaN</td>\n",
       "      <td>30/07/2018</td>\n",
       "      <td>5</td>\n",
       "      <td>0</td>\n",
       "      <td>5</td>\n",
       "    </tr>\n",
       "    <tr>\n",
       "      <th>3</th>\n",
       "      <td>550115</td>\n",
       "      <td>4249GST</td>\n",
       "      <td>2010-01-08</td>\n",
       "      <td>SKODA</td>\n",
       "      <td>OCTAVIA</td>\n",
       "      <td>NaN</td>\n",
       "      <td>NaN</td>\n",
       "      <td>NaN</td>\n",
       "      <td>DIESEL</td>\n",
       "      <td>0</td>\n",
       "      <td>...</td>\n",
       "      <td>NaN</td>\n",
       "      <td>14/01/2010</td>\n",
       "      <td>NO</td>\n",
       "      <td>NO</td>\n",
       "      <td>NaN</td>\n",
       "      <td>NaN</td>\n",
       "      <td>30/07/2018</td>\n",
       "      <td>5</td>\n",
       "      <td>0</td>\n",
       "      <td>5</td>\n",
       "    </tr>\n",
       "    <tr>\n",
       "      <th>4</th>\n",
       "      <td>550142</td>\n",
       "      <td>1561GVY</td>\n",
       "      <td>2010-04-27</td>\n",
       "      <td>SKODA</td>\n",
       "      <td>OCTAVIA</td>\n",
       "      <td>NaN</td>\n",
       "      <td>NaN</td>\n",
       "      <td>NaN</td>\n",
       "      <td>DIESEL</td>\n",
       "      <td>0</td>\n",
       "      <td>...</td>\n",
       "      <td>NaN</td>\n",
       "      <td>01/03/2010</td>\n",
       "      <td>NO</td>\n",
       "      <td>NO</td>\n",
       "      <td>NaN</td>\n",
       "      <td>NaN</td>\n",
       "      <td>30/07/2018</td>\n",
       "      <td>5</td>\n",
       "      <td>0</td>\n",
       "      <td>5</td>\n",
       "    </tr>\n",
       "  </tbody>\n",
       "</table>\n",
       "<p>5 rows × 21 columns</p>\n",
       "</div>"
      ],
      "text/plain": [
       "    codigo matricula fecha_matriculacion  marca   modelo tipo variante  \\\n",
       "0  1020144   2239DTJ          2005-12-13  SKODA  OCTAVIA  NaN      NaN   \n",
       "1   550040   8901GJP          2008-11-21  SKODA  OCTAVIA  NaN      NaN   \n",
       "2   550016   6364FVW          2007-12-14   SEAT   TOLEDO  NaN      NaN   \n",
       "3   550115   4249GST          2010-01-08  SKODA  OCTAVIA  NaN      NaN   \n",
       "4   550142   1561GVY          2010-04-27  SKODA  OCTAVIA  NaN      NaN   \n",
       "\n",
       "  clasificacion_medioambiental combustible  cilindrada          ...            \\\n",
       "0                          NaN      DIESEL           0          ...             \n",
       "1                          NaN      DIESEL           0          ...             \n",
       "2                          NaN      DIESEL           0          ...             \n",
       "3                          NaN      DIESEL           0          ...             \n",
       "4                          NaN      DIESEL           0          ...             \n",
       "\n",
       "   numero_plazas fecha_inicio eurotaxi regimen_eurotaxi fecha_inicio_eurotaxi  \\\n",
       "0            NaN   16/12/2005       NO               NO                   NaN   \n",
       "1            NaN   11/12/2008       NO               NO                   NaN   \n",
       "2            NaN   18/11/2008       NO               NO                   NaN   \n",
       "3            NaN   14/01/2010       NO               NO                   NaN   \n",
       "4            NaN   01/03/2010       NO               NO                   NaN   \n",
       "\n",
       "  fecha_fin_eurotaxi       fecha num_plazas  num_plazas_movilidad_reducida  \\\n",
       "0                NaN  30/07/2018          5                              0   \n",
       "1                NaN  30/07/2018          5                              0   \n",
       "2                NaN  30/07/2018          5                              0   \n",
       "3                NaN  30/07/2018          5                              0   \n",
       "4                NaN  30/07/2018          5                              0   \n",
       "\n",
       "   num_plazas_ampliables  \n",
       "0                      5  \n",
       "1                      5  \n",
       "2                      5  \n",
       "3                      5  \n",
       "4                      5  \n",
       "\n",
       "[5 rows x 21 columns]"
      ]
     },
     "execution_count": 13,
     "metadata": {},
     "output_type": "execute_result"
    }
   ],
   "source": [
    "def primera_columna(fila):\n",
    "    try:\n",
    "        if len(re.findall('[0-9]+',fila)) == 3:\n",
    "            a,b,c = re.findall('[0-9]+',fila)\n",
    "        elif len(re.findall('[0-9]+',fila)) == 2:\n",
    "            a,b = re.findall('[0-9]+',fila)\n",
    "        elif len(re.findall('[0-9]+',fila)) == 1:\n",
    "            a = re.findall('[0-9]+',fila)[0]\n",
    "        else:\n",
    "            a = '5'\n",
    "        return int(a)\n",
    "    except:\n",
    "        return 5\n",
    "    \n",
    "def segunda_columna(fila):\n",
    "    try:\n",
    "        if len(re.findall('[0-9]+',fila)) == 3:\n",
    "            a,b,c = re.findall('[0-9]+',fila)\n",
    "        elif len(re.findall('[0-9]+',fila)) == 2:\n",
    "            a,b = re.findall('[0-9]+',fila)\n",
    "        elif len(re.findall('[0-9]+',fila)) == 1:\n",
    "            a.append('0')\n",
    "            a,b = re.findall('[0-9]+',fila)\n",
    "\n",
    "        else:\n",
    "            b = '0'\n",
    "        return int(b)\n",
    "    except:\n",
    "        return 0\n",
    "def tercera_columna(fila):\n",
    "    try:\n",
    "        if len(re.findall('[0-9]+',fila)) == 3:\n",
    "            a,b,c = re.findall('[0-9]+',fila)\n",
    "        elif len(re.findall('[0-9]+',fila)) == 2:\n",
    "            a,b = re.findall('[0-9]+',fila)\n",
    "            c = a\n",
    "        elif len(re.findall('[0-9]+',fila)) == 1:\n",
    "            a = re.findall('[0-9]+',fila)[0]\n",
    "            c = a\n",
    "        else:\n",
    "            c = a\n",
    "        return int(c)\n",
    "    except:\n",
    "        return primera_columna(fila)\n",
    "\n",
    "\n",
    "df['num_plazas'] = df.numero_plazas.apply(primera_columna)\n",
    "df['num_plazas_movilidad_reducida'] = df.numero_plazas.apply(segunda_columna)\n",
    "df['num_plazas_ampliables'] = df.numero_plazas.apply(tercera_columna)\n",
    "df.head()"
   ]
  },
  {
   "cell_type": "code",
   "execution_count": 14,
   "metadata": {},
   "outputs": [],
   "source": [
    "# fecha_inicio\n",
    "df.fecha_inicio = df.fecha_inicio.apply(parsea_fecha)"
   ]
  },
  {
   "cell_type": "code",
   "execution_count": 15,
   "metadata": {},
   "outputs": [],
   "source": [
    "# eurotaxi\n",
    "df.eurotaxi = df.eurotaxi.replace('SI', '1')\n",
    "df.eurotaxi = df.eurotaxi.replace('NO', '0')"
   ]
  },
  {
   "cell_type": "code",
   "execution_count": 16,
   "metadata": {},
   "outputs": [],
   "source": [
    "# regimen_eurotaxi\n",
    "df.regimen_eurotaxi = df.regimen_eurotaxi.replace('SI','1')\n",
    "df.regimen_eurotaxi = df.regimen_eurotaxi.replace('NO','0')"
   ]
  },
  {
   "cell_type": "code",
   "execution_count": 17,
   "metadata": {},
   "outputs": [
    {
     "data": {
      "text/html": [
       "<div>\n",
       "<style scoped>\n",
       "    .dataframe tbody tr th:only-of-type {\n",
       "        vertical-align: middle;\n",
       "    }\n",
       "\n",
       "    .dataframe tbody tr th {\n",
       "        vertical-align: top;\n",
       "    }\n",
       "\n",
       "    .dataframe thead th {\n",
       "        text-align: right;\n",
       "    }\n",
       "</style>\n",
       "<table border=\"1\" class=\"dataframe\">\n",
       "  <thead>\n",
       "    <tr style=\"text-align: right;\">\n",
       "      <th></th>\n",
       "      <th>codigo</th>\n",
       "      <th>matricula</th>\n",
       "      <th>fecha_matriculacion</th>\n",
       "      <th>marca</th>\n",
       "      <th>modelo</th>\n",
       "      <th>clasificacion_medioambiental</th>\n",
       "      <th>combustible</th>\n",
       "      <th>cilindrada</th>\n",
       "      <th>potencia</th>\n",
       "      <th>fecha_inicio</th>\n",
       "      <th>eurotaxi</th>\n",
       "      <th>regimen_eurotaxi</th>\n",
       "      <th>num_plazas</th>\n",
       "      <th>num_plazas_movilidad_reducida</th>\n",
       "      <th>num_plazas_ampliables</th>\n",
       "    </tr>\n",
       "  </thead>\n",
       "  <tbody>\n",
       "    <tr>\n",
       "      <th>0</th>\n",
       "      <td>1020144</td>\n",
       "      <td>2239DTJ</td>\n",
       "      <td>2005-12-13</td>\n",
       "      <td>SKODA</td>\n",
       "      <td>OCTAVIA</td>\n",
       "      <td>NaN</td>\n",
       "      <td>DIESEL</td>\n",
       "      <td>0</td>\n",
       "      <td>12.0</td>\n",
       "      <td>2005-12-16</td>\n",
       "      <td>0</td>\n",
       "      <td>0</td>\n",
       "      <td>5</td>\n",
       "      <td>0</td>\n",
       "      <td>5</td>\n",
       "    </tr>\n",
       "    <tr>\n",
       "      <th>15646</th>\n",
       "      <td>1020144</td>\n",
       "      <td>2239DTJ</td>\n",
       "      <td>2005-12-13</td>\n",
       "      <td>SKODA</td>\n",
       "      <td>OCTAVIA</td>\n",
       "      <td>NaN</td>\n",
       "      <td>DIESEL</td>\n",
       "      <td>0</td>\n",
       "      <td>12.0</td>\n",
       "      <td>2005-12-16</td>\n",
       "      <td>0</td>\n",
       "      <td>0</td>\n",
       "      <td>5</td>\n",
       "      <td>0</td>\n",
       "      <td>5</td>\n",
       "    </tr>\n",
       "    <tr>\n",
       "      <th>31294</th>\n",
       "      <td>1020144</td>\n",
       "      <td>2239DTJ</td>\n",
       "      <td>2005-12-13</td>\n",
       "      <td>SKODA</td>\n",
       "      <td>OCTAVIA</td>\n",
       "      <td>NaN</td>\n",
       "      <td>DIESEL</td>\n",
       "      <td>0</td>\n",
       "      <td>12.0</td>\n",
       "      <td>2005-12-16</td>\n",
       "      <td>0</td>\n",
       "      <td>0</td>\n",
       "      <td>5</td>\n",
       "      <td>0</td>\n",
       "      <td>5</td>\n",
       "    </tr>\n",
       "    <tr>\n",
       "      <th>39451</th>\n",
       "      <td>1067525</td>\n",
       "      <td>8924FKG</td>\n",
       "      <td>2007-01-08</td>\n",
       "      <td>SKODA</td>\n",
       "      <td>OCTAVIA 1.9 TDI 5v man (2005)</td>\n",
       "      <td>B</td>\n",
       "      <td>DIESEL</td>\n",
       "      <td>1896</td>\n",
       "      <td>77.0</td>\n",
       "      <td>2007-01-10</td>\n",
       "      <td>0</td>\n",
       "      <td>0</td>\n",
       "      <td>5</td>\n",
       "      <td>0</td>\n",
       "      <td>5</td>\n",
       "    </tr>\n",
       "    <tr>\n",
       "      <th>23654</th>\n",
       "      <td>1067525</td>\n",
       "      <td>8924FKG</td>\n",
       "      <td>2007-01-08</td>\n",
       "      <td>SKODA</td>\n",
       "      <td>OCTAVIA 1.9 TDI 5v man (2005)</td>\n",
       "      <td>B</td>\n",
       "      <td>DIESEL</td>\n",
       "      <td>1896</td>\n",
       "      <td>77.0</td>\n",
       "      <td>2007-01-10</td>\n",
       "      <td>0</td>\n",
       "      <td>0</td>\n",
       "      <td>5</td>\n",
       "      <td>0</td>\n",
       "      <td>5</td>\n",
       "    </tr>\n",
       "  </tbody>\n",
       "</table>\n",
       "</div>"
      ],
      "text/plain": [
       "        codigo matricula fecha_matriculacion  marca  \\\n",
       "0      1020144   2239DTJ          2005-12-13  SKODA   \n",
       "15646  1020144   2239DTJ          2005-12-13  SKODA   \n",
       "31294  1020144   2239DTJ          2005-12-13  SKODA   \n",
       "39451  1067525   8924FKG          2007-01-08  SKODA   \n",
       "23654  1067525   8924FKG          2007-01-08  SKODA   \n",
       "\n",
       "                              modelo clasificacion_medioambiental combustible  \\\n",
       "0                            OCTAVIA                          NaN      DIESEL   \n",
       "15646                        OCTAVIA                          NaN      DIESEL   \n",
       "31294                        OCTAVIA                          NaN      DIESEL   \n",
       "39451  OCTAVIA 1.9 TDI 5v man (2005)                            B      DIESEL   \n",
       "23654  OCTAVIA 1.9 TDI 5v man (2005)                            B      DIESEL   \n",
       "\n",
       "       cilindrada  potencia fecha_inicio eurotaxi regimen_eurotaxi  \\\n",
       "0               0      12.0   2005-12-16        0                0   \n",
       "15646           0      12.0   2005-12-16        0                0   \n",
       "31294           0      12.0   2005-12-16        0                0   \n",
       "39451        1896      77.0   2007-01-10        0                0   \n",
       "23654        1896      77.0   2007-01-10        0                0   \n",
       "\n",
       "       num_plazas  num_plazas_movilidad_reducida  num_plazas_ampliables  \n",
       "0               5                              0                      5  \n",
       "15646           5                              0                      5  \n",
       "31294           5                              0                      5  \n",
       "39451           5                              0                      5  \n",
       "23654           5                              0                      5  "
      ]
     },
     "execution_count": 17,
     "metadata": {},
     "output_type": "execute_result"
    }
   ],
   "source": [
    "#eliminamos columnas inservibles y ordenamos por fecha de matriculación\n",
    "df = df.drop(['tipo','variante','fecha_inicio_eurotaxi','fecha_fin_eurotaxi','fecha', 'numero_plazas'],axis=1)\n",
    "df = df.sort_values(by='fecha_matriculacion')\n",
    "df.head()"
   ]
  },
  {
   "cell_type": "markdown",
   "metadata": {},
   "source": [
    "# 3. Enriquecimiento de datos\n",
    "\n",
    "Los datos abiertos de Madrid no tienen otras bases de datos de taxis que tengan índices que se puedan cruzar con la base de datos que estamos analizando. \n",
    "\n",
    "No hemos encontrado bases de datos abiertas de vehículos de transporte colectivo para poder hacer una comparación con la base de datos de taxis.\n",
    "\n",
    "De estar forma, hemos trabajado solo sobre la base de datos de taxis que hemos importado, sin cruzar o comparar con una segunda base de datos."
   ]
  },
  {
   "cell_type": "markdown",
   "metadata": {},
   "source": [
    "# 4. Análisis exploratorio\n",
    "\n",
    "Hemos analizado la distribución de algunas variables de nuestra bases de datos y algunas correlaciones entre variables."
   ]
  },
  {
   "cell_type": "code",
   "execution_count": 18,
   "metadata": {},
   "outputs": [],
   "source": [
    "import seaborn as sns\n",
    "from matplotlib import rcParams\n",
    "import matplotlib.pyplot as plt"
   ]
  },
  {
   "cell_type": "markdown",
   "metadata": {},
   "source": [
    "### Distribución de la variable *cilindrada*\n",
    "*Cilindrada* sigue una distribución con concentración de valores alrededor de la media (1683 cc), con algunos outliers."
   ]
  },
  {
   "cell_type": "code",
   "execution_count": 19,
   "metadata": {
    "scrolled": true
   },
   "outputs": [
    {
     "data": {
      "text/plain": [
       "1682.7845426270717"
      ]
     },
     "execution_count": 19,
     "metadata": {},
     "output_type": "execute_result"
    },
    {
     "data": {
      "image/png": "[encoded data removed]",
      "text/plain": [
       "<Figure size 432x288 with 1 Axes>"
      ]
     },
     "metadata": {
      "needs_background": "light"
     },
     "output_type": "display_data"
    }
   ],
   "source": [
    "sns.boxplot(df.cilindrada)\n",
    "df.cilindrada.mean()"
   ]
  },
  {
   "cell_type": "markdown",
   "metadata": {},
   "source": [
    "### Distribución de la variable *potencia*\n",
    "*Potencia* tiene una mayor dispersión de valores en función de la media (79 cv), llegando al valor máximo de 193 cv."
   ]
  },
  {
   "cell_type": "code",
   "execution_count": 20,
   "metadata": {},
   "outputs": [
    {
     "data": {
      "text/plain": [
       "78.9737503462097"
      ]
     },
     "execution_count": 20,
     "metadata": {},
     "output_type": "execute_result"
    },
    {
     "data": {
      "image/png": "[encoded data removed]",
      "text/plain": [
       "<Figure size 432x288 with 1 Axes>"
      ]
     },
     "metadata": {
      "needs_background": "light"
     },
     "output_type": "display_data"
    }
   ],
   "source": [
    "df.potencia.fillna(df.potencia.mean(),inplace=True)\n",
    "sns.boxplot(df.potencia)\n",
    "df.potencia.mean()"
   ]
  },
  {
   "cell_type": "code",
   "execution_count": 21,
   "metadata": {},
   "outputs": [
    {
     "data": {
      "text/plain": [
       "193.0"
      ]
     },
     "execution_count": 21,
     "metadata": {},
     "output_type": "execute_result"
    }
   ],
   "source": [
    "df.potencia.max()"
   ]
  },
  {
   "cell_type": "markdown",
   "metadata": {},
   "source": [
    "# Relaciones entre variables"
   ]
  },
  {
   "cell_type": "markdown",
   "metadata": {},
   "source": [
    "Definimos parámetros para que los gráficos salgan con mayor visibilidad"
   ]
  },
  {
   "cell_type": "code",
   "execution_count": 22,
   "metadata": {},
   "outputs": [],
   "source": [
    "rcParams['figure.figsize'] = 14, 10\n",
    "sns.set_context('talk')"
   ]
  },
  {
   "cell_type": "markdown",
   "metadata": {},
   "source": [
    "### Relación entre *cilindrada* y *potencia*\n",
    "Se observa una relación directa entre las variables, con mayor concentración en torno de la media de ambas"
   ]
  },
  {
   "cell_type": "code",
   "execution_count": 28,
   "metadata": {},
   "outputs": [
    {
     "data": {
      "text/plain": [
       "Text(0.5, 1.0, 'Relación entre cilindrada y potencia')"
      ]
     },
     "execution_count": 28,
     "metadata": {},
     "output_type": "execute_result"
    },
    {
     "data": {
      "image/png": "[encoded data removed]",
      "text/plain": [
       "<Figure size 1008x720 with 1 Axes>"
      ]
     },
     "metadata": {
      "needs_background": "light"
     },
     "output_type": "display_data"
    }
   ],
   "source": [
    "sns.scatterplot(x='cilindrada', y='potencia', data=df).set_title('Relación entre cilindrada y potencia')"
   ]
  },
  {
   "cell_type": "markdown",
   "metadata": {},
   "source": [
    "### Relación entre *cilindrada* y *potencia* según contaminación\n",
    "No hay una clara distribución de los niveles de contaminación por cilindrada y potencia.\n",
    "Sin embargo, los vehículos que menos contaminan, de *nivel 0* aparecen como outliers en el gráfico (bajo nivel de cilindrada para varios niveles de potencia), debido a un número muy reducido de casos, que no es representativo para sacar conclusiones."
   ]
  },
  {
   "cell_type": "code",
   "execution_count": 24,
   "metadata": {
    "scrolled": true
   },
   "outputs": [
    {
     "data": {
      "text/plain": [
       "ECO    20829\n",
       "B      14927\n",
       "C      11116\n",
       "0         46\n",
       "Name: clasificacion_medioambiental, dtype: int64"
      ]
     },
     "execution_count": 24,
     "metadata": {},
     "output_type": "execute_result"
    },
    {
     "data": {
      "image/png": "[encoded data removed]",
      "text/plain": [
       "<Figure size 1008x720 with 1 Axes>"
      ]
     },
     "metadata": {
      "needs_background": "light"
     },
     "output_type": "display_data"
    }
   ],
   "source": [
    "sns.scatterplot(x='cilindrada', y='potencia', data=df, hue = 'clasificacion_medioambiental',legend='brief', hue_order= ['0', 'ECO', 'B', 'C'], palette=\"Greens\").set_title('Relación entre cilindrada y potencia según contaminación')\n",
    "df.clasificacion_medioambiental.value_counts()"
   ]
  },
  {
   "cell_type": "markdown",
   "metadata": {},
   "source": [
    "### Marcas de vehículos por clasificación medioambiental\n",
    "\n",
    "La marca con mayor representación es ***Skoda***, principalmente con vehículos ***C y B*** y un número reducido de vehículos con menor contaminación.\n",
    "\n",
    "***Toyota*** es la segunda marca más representativa, con vehículos exclusivamente ***Eco***. \n",
    "\n",
    "***Seat*** es la tercera marca más representativa y tiene una mayor equilibrio entre número de vehículos de contaminación *C, B y 0*."
   ]
  },
  {
   "cell_type": "code",
   "execution_count": 25,
   "metadata": {},
   "outputs": [
    {
     "data": {
      "text/plain": [
       "SKODA            13279\n",
       "TOYOTA           12341\n",
       "SEAT              8095\n",
       "DACIA             3700\n",
       "PEUGEOT           2872\n",
       "CITROEN           2114\n",
       "VOLKSWAGEN        1570\n",
       "FIAT              1357\n",
       "MERCEDES-BENZ      616\n",
       "FORD               474\n",
       "RENAULT            381\n",
       "NISSAN              45\n",
       "SSANGYONG           44\n",
       "CHEVROLET           20\n",
       "HYUNDAI             18\n",
       "LEXUS               12\n",
       "PEUGEOT              3\n",
       "TESLA                1\n",
       "Name: marca, dtype: int64"
      ]
     },
     "execution_count": 25,
     "metadata": {},
     "output_type": "execute_result"
    },
    {
     "data": {
      "image/png": "[encoded data removed]",
      "text/plain": [
       "<Figure size 1008x720 with 1 Axes>"
      ]
     },
     "metadata": {
      "needs_background": "light"
     },
     "output_type": "display_data"
    }
   ],
   "source": [
    "out = sns.countplot(x= 'marca', hue='clasificacion_medioambiental', data=df)\n",
    "plt.xticks(rotation=45)\n",
    "df.marca.value_counts()"
   ]
  }
 ],
 "metadata": {
  "kernelspec": {
   "display_name": "Python 3",
   "language": "python",
   "name": "python3"
  },
  "language_info": {
   "codemirror_mode": {
    "name": "ipython",
    "version": 3
   },
   "file_extension": ".py",
   "mimetype": "text/x-python",
   "name": "python",
   "nbconvert_exporter": "python",
   "pygments_lexer": "ipython3",
   "version": "3.7.1"
  }
 },
 "nbformat": 4,
 "nbformat_minor": 2
}
